{
 "cells": [
  {
   "cell_type": "code",
   "execution_count": 1,
   "metadata": {},
   "outputs": [
    {
     "data": {
      "text/html": [
       "<div>\n",
       "<style scoped>\n",
       "    .dataframe tbody tr th:only-of-type {\n",
       "        vertical-align: middle;\n",
       "    }\n",
       "\n",
       "    .dataframe tbody tr th {\n",
       "        vertical-align: top;\n",
       "    }\n",
       "\n",
       "    .dataframe thead th {\n",
       "        text-align: right;\n",
       "    }\n",
       "</style>\n",
       "<table border=\"1\" class=\"dataframe\">\n",
       "  <thead>\n",
       "    <tr style=\"text-align: right;\">\n",
       "      <th></th>\n",
       "      <th>Name</th>\n",
       "      <th>Class</th>\n",
       "      <th>Roll</th>\n",
       "      <th>Adress</th>\n",
       "    </tr>\n",
       "  </thead>\n",
       "  <tbody>\n",
       "    <tr>\n",
       "      <th>0</th>\n",
       "      <td>Simon</td>\n",
       "      <td>12</td>\n",
       "      <td>43</td>\n",
       "      <td>Ktm</td>\n",
       "    </tr>\n",
       "    <tr>\n",
       "      <th>1</th>\n",
       "      <td>Srijan</td>\n",
       "      <td>13</td>\n",
       "      <td>7</td>\n",
       "      <td>Bkt</td>\n",
       "    </tr>\n",
       "    <tr>\n",
       "      <th>2</th>\n",
       "      <td>Subash</td>\n",
       "      <td>14</td>\n",
       "      <td>78</td>\n",
       "      <td>Skt</td>\n",
       "    </tr>\n",
       "    <tr>\n",
       "      <th>3</th>\n",
       "      <td>Suman</td>\n",
       "      <td>15</td>\n",
       "      <td>2</td>\n",
       "      <td>Pu</td>\n",
       "    </tr>\n",
       "    <tr>\n",
       "      <th>4</th>\n",
       "      <td>Sushil</td>\n",
       "      <td>8</td>\n",
       "      <td>14</td>\n",
       "      <td>Ktm</td>\n",
       "    </tr>\n",
       "    <tr>\n",
       "      <th>5</th>\n",
       "      <td>Shyan</td>\n",
       "      <td>11</td>\n",
       "      <td>36</td>\n",
       "      <td>Su</td>\n",
       "    </tr>\n",
       "  </tbody>\n",
       "</table>\n",
       "</div>"
      ],
      "text/plain": [
       "     Name  Class  Roll Adress\n",
       "0   Simon     12    43    Ktm\n",
       "1  Srijan     13     7    Bkt\n",
       "2  Subash     14    78    Skt\n",
       "3   Suman     15     2     Pu\n",
       "4  Sushil      8    14    Ktm\n",
       "5   Shyan     11    36     Su"
      ]
     },
     "execution_count": 1,
     "metadata": {},
     "output_type": "execute_result"
    }
   ],
   "source": [
    "import pandas as pd\n",
    "df=pd.read_excel(\"Sus.xlsx\")\n",
    "df"
   ]
  },
  {
   "cell_type": "code",
   "execution_count": 2,
   "metadata": {},
   "outputs": [],
   "source": [
    "\n",
    "df.set_index('Name',inplace=True)"
   ]
  },
  {
   "cell_type": "code",
   "execution_count": 3,
   "metadata": {},
   "outputs": [
    {
     "data": {
      "text/html": [
       "<div>\n",
       "<style scoped>\n",
       "    .dataframe tbody tr th:only-of-type {\n",
       "        vertical-align: middle;\n",
       "    }\n",
       "\n",
       "    .dataframe tbody tr th {\n",
       "        vertical-align: top;\n",
       "    }\n",
       "\n",
       "    .dataframe thead th {\n",
       "        text-align: right;\n",
       "    }\n",
       "</style>\n",
       "<table border=\"1\" class=\"dataframe\">\n",
       "  <thead>\n",
       "    <tr style=\"text-align: right;\">\n",
       "      <th></th>\n",
       "      <th>Class</th>\n",
       "      <th>Roll</th>\n",
       "      <th>Adress</th>\n",
       "    </tr>\n",
       "    <tr>\n",
       "      <th>Name</th>\n",
       "      <th></th>\n",
       "      <th></th>\n",
       "      <th></th>\n",
       "    </tr>\n",
       "  </thead>\n",
       "  <tbody>\n",
       "    <tr>\n",
       "      <th>Simon</th>\n",
       "      <td>12</td>\n",
       "      <td>43</td>\n",
       "      <td>Ktm</td>\n",
       "    </tr>\n",
       "    <tr>\n",
       "      <th>Srijan</th>\n",
       "      <td>13</td>\n",
       "      <td>7</td>\n",
       "      <td>Bkt</td>\n",
       "    </tr>\n",
       "    <tr>\n",
       "      <th>Subash</th>\n",
       "      <td>14</td>\n",
       "      <td>78</td>\n",
       "      <td>Skt</td>\n",
       "    </tr>\n",
       "    <tr>\n",
       "      <th>Suman</th>\n",
       "      <td>15</td>\n",
       "      <td>2</td>\n",
       "      <td>Pu</td>\n",
       "    </tr>\n",
       "    <tr>\n",
       "      <th>Sushil</th>\n",
       "      <td>8</td>\n",
       "      <td>14</td>\n",
       "      <td>Ktm</td>\n",
       "    </tr>\n",
       "    <tr>\n",
       "      <th>Shyan</th>\n",
       "      <td>11</td>\n",
       "      <td>36</td>\n",
       "      <td>Su</td>\n",
       "    </tr>\n",
       "  </tbody>\n",
       "</table>\n",
       "</div>"
      ],
      "text/plain": [
       "        Class  Roll Adress\n",
       "Name                      \n",
       "Simon      12    43    Ktm\n",
       "Srijan     13     7    Bkt\n",
       "Subash     14    78    Skt\n",
       "Suman      15     2     Pu\n",
       "Sushil      8    14    Ktm\n",
       "Shyan      11    36     Su"
      ]
     },
     "execution_count": 3,
     "metadata": {},
     "output_type": "execute_result"
    }
   ],
   "source": [
    "df"
   ]
  },
  {
   "cell_type": "code",
   "execution_count": 4,
   "metadata": {},
   "outputs": [
    {
     "data": {
      "text/plain": [
       "Class      13\n",
       "Roll        7\n",
       "Adress    Bkt\n",
       "Name: Srijan, dtype: object"
      ]
     },
     "execution_count": 4,
     "metadata": {},
     "output_type": "execute_result"
    }
   ],
   "source": [
    "df.loc[\"Srijan\"]"
   ]
  }
 ],
 "metadata": {
  "kernelspec": {
   "display_name": "Python 3",
   "language": "python",
   "name": "python3"
  },
  "language_info": {
   "codemirror_mode": {
    "name": "ipython",
    "version": 3
   },
   "file_extension": ".py",
   "mimetype": "text/x-python",
   "name": "python",
   "nbconvert_exporter": "python",
   "pygments_lexer": "ipython3",
   "version": "3.8.3"
  }
 },
 "nbformat": 4,
 "nbformat_minor": 4
}
